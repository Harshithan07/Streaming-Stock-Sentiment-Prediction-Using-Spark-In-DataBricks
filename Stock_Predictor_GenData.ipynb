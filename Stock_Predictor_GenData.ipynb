{
 "cells": [
  {
   "cell_type": "markdown",
   "metadata": {
    "application/vnd.databricks.v1+cell": {
     "cellMetadata": {
      "byteLimit": 2048000,
      "rowLimit": 10000
     },
     "inputWidgets": {},
     "nuid": "4dc5353a-d558-4747-9172-259e30bc3010",
     "showTitle": false,
     "tableResultSettingsMap": {},
     "title": ""
    },
    "deletable": true,
    "editable": true
   },
   "source": [
    "# Stock Predictor - Data Generator"
   ]
  },
  {
   "cell_type": "markdown",
   "metadata": {
    "application/vnd.databricks.v1+cell": {
     "cellMetadata": {
      "byteLimit": 2048000,
      "rowLimit": 10000
     },
     "inputWidgets": {},
     "nuid": "9b06af0c-cd67-4126-aad1-f620d74cc7a7",
     "showTitle": false,
     "tableResultSettingsMap": {},
     "title": ""
    }
   },
   "source": [
    "1\\. First, download the data file from `https://idsdl.csom.umn.edu/c/share/msba6330/adir.zip` and unzip it to the local host"
   ]
  },
  {
   "cell_type": "code",
   "execution_count": 0,
   "metadata": {
    "application/vnd.databricks.v1+cell": {
     "cellMetadata": {
      "byteLimit": 2048000,
      "rowLimit": 10000
     },
     "inputWidgets": {},
     "nuid": "4dfa41b5-402c-442e-81ee-70ba62490597",
     "showTitle": false,
     "tableResultSettingsMap": {},
     "title": ""
    }
   },
   "outputs": [
    {
     "output_type": "stream",
     "name": "stdout",
     "output_type": "stream",
     "text": [
      "Python interpreter will be restarted.\nCollecting datasets\n  Using cached datasets-3.5.0-py3-none-any.whl (491 kB)\nCollecting huggingface-hub>=0.24.0\n  Using cached huggingface_hub-0.30.1-py3-none-any.whl (481 kB)\nCollecting multiprocess<0.70.17\n  Using cached multiprocess-0.70.16-py39-none-any.whl (133 kB)\nCollecting xxhash\n  Using cached xxhash-3.5.0-cp39-cp39-manylinux_2_17_x86_64.manylinux2014_x86_64.whl (193 kB)\nRequirement already satisfied: packaging in /databricks/python3/lib/python3.9/site-packages (from datasets) (21.3)\nRequirement already satisfied: pandas in /databricks/python3/lib/python3.9/site-packages (from datasets) (1.4.2)\nRequirement already satisfied: numpy>=1.17 in /databricks/python3/lib/python3.9/site-packages (from datasets) (1.21.5)\nCollecting aiohttp\n  Using cached aiohttp-3.11.16-cp39-cp39-manylinux_2_17_x86_64.manylinux2014_x86_64.whl (1.6 MB)\nCollecting pyarrow>=15.0.0\n  Using cached pyarrow-19.0.1-cp39-cp39-manylinux_2_28_x86_64.whl (42.1 MB)\nRequirement already satisfied: filelock in /usr/local/lib/python3.9/dist-packages (from datasets) (3.9.0)\nCollecting dill<0.3.9,>=0.3.0\n  Using cached dill-0.3.8-py3-none-any.whl (116 kB)\nCollecting requests>=2.32.2\n  Using cached requests-2.32.3-py3-none-any.whl (64 kB)\nCollecting tqdm>=4.66.3\n  Using cached tqdm-4.67.1-py3-none-any.whl (78 kB)\nCollecting pyyaml>=5.1\n  Using cached PyYAML-6.0.2-cp39-cp39-manylinux_2_17_x86_64.manylinux2014_x86_64.whl (737 kB)\nCollecting fsspec[http]<=2024.12.0,>=2023.1.0\n  Using cached fsspec-2024.12.0-py3-none-any.whl (183 kB)\nCollecting frozenlist>=1.1.1\n  Using cached frozenlist-1.5.0-cp39-cp39-manylinux_2_5_x86_64.manylinux1_x86_64.manylinux_2_17_x86_64.manylinux2014_x86_64.whl (242 kB)\nCollecting multidict<7.0,>=4.5\n  Using cached multidict-6.3.2-cp39-cp39-manylinux_2_17_x86_64.manylinux2014_x86_64.whl (231 kB)\nCollecting aiosignal>=1.1.2\n  Using cached aiosignal-1.3.2-py2.py3-none-any.whl (7.6 kB)\nRequirement already satisfied: attrs>=17.3.0 in /databricks/python3/lib/python3.9/site-packages (from aiohttp->datasets) (21.4.0)\nCollecting yarl<2.0,>=1.17.0\n  Using cached yarl-1.19.0-cp39-cp39-manylinux_2_17_x86_64.manylinux2014_x86_64.whl (336 kB)\nCollecting async-timeout<6.0,>=4.0\n  Using cached async_timeout-5.0.1-py3-none-any.whl (6.2 kB)\nCollecting aiohappyeyeballs>=2.3.0\n  Using cached aiohappyeyeballs-2.6.1-py3-none-any.whl (15 kB)\nCollecting propcache>=0.2.0\n  Using cached propcache-0.3.1-cp39-cp39-manylinux_2_17_x86_64.manylinux2014_x86_64.whl (209 kB)\nRequirement already satisfied: typing-extensions>=3.7.4.3 in /databricks/python3/lib/python3.9/site-packages (from huggingface-hub>=0.24.0->datasets) (4.1.1)\nRequirement already satisfied: pyparsing!=3.0.5,>=2.0.2 in /databricks/python3/lib/python3.9/site-packages (from packaging->datasets) (3.0.4)\nRequirement already satisfied: urllib3<3,>=1.21.1 in /databricks/python3/lib/python3.9/site-packages (from requests>=2.32.2->datasets) (1.26.9)\nRequirement already satisfied: certifi>=2017.4.17 in /databricks/python3/lib/python3.9/site-packages (from requests>=2.32.2->datasets) (2021.10.8)\nRequirement already satisfied: idna<4,>=2.5 in /databricks/python3/lib/python3.9/site-packages (from requests>=2.32.2->datasets) (3.3)\nRequirement already satisfied: charset-normalizer<4,>=2 in /databricks/python3/lib/python3.9/site-packages (from requests>=2.32.2->datasets) (2.0.4)\nRequirement already satisfied: python-dateutil>=2.8.1 in /databricks/python3/lib/python3.9/site-packages (from pandas->datasets) (2.8.2)\nRequirement already satisfied: pytz>=2020.1 in /databricks/python3/lib/python3.9/site-packages (from pandas->datasets) (2021.3)\nRequirement already satisfied: six>=1.5 in /databricks/python3/lib/python3.9/site-packages (from python-dateutil>=2.8.1->pandas->datasets) (1.16.0)\nInstalling collected packages: propcache, multidict, frozenlist, yarl, async-timeout, aiosignal, aiohappyeyeballs, tqdm, requests, pyyaml, fsspec, dill, aiohttp, xxhash, pyarrow, multiprocess, huggingface-hub, datasets\n  Attempting uninstall: requests\n    Found existing installation: requests 2.27.1\n    Not uninstalling requests at /databricks/python3/lib/python3.9/site-packages, outside environment /local_disk0/.ephemeral_nfs/envs/pythonEnv-e828bbbf-d3fd-495b-b4a6-dbabff9854c7\n    Can't uninstall 'requests'. No files were found to uninstall.\n  Attempting uninstall: pyarrow\n    Found existing installation: pyarrow 7.0.0\n    Not uninstalling pyarrow at /databricks/python3/lib/python3.9/site-packages, outside environment /local_disk0/.ephemeral_nfs/envs/pythonEnv-e828bbbf-d3fd-495b-b4a6-dbabff9854c7\n    Can't uninstall 'pyarrow'. No files were found to uninstall.\nSuccessfully installed aiohappyeyeballs-2.6.1 aiohttp-3.11.16 aiosignal-1.3.2 async-timeout-5.0.1 datasets-3.5.0 dill-0.3.8 frozenlist-1.5.0 fsspec-2024.12.0 huggingface-hub-0.30.1 multidict-6.3.2 multiprocess-0.70.16 propcache-0.3.1 pyarrow-19.0.1 pyyaml-6.0.2 requests-2.32.3 tqdm-4.67.1 xxhash-3.5.0 yarl-1.19.0\nPython interpreter will be restarted.\n"
     ]
    }
   ],
   "source": [
    "%pip install datasets"
   ]
  },
  {
   "cell_type": "code",
   "execution_count": 0,
   "metadata": {
    "application/vnd.databricks.v1+cell": {
     "cellMetadata": {
      "byteLimit": 2048000,
      "rowLimit": 10000
     },
     "inputWidgets": {},
     "nuid": "122e1bf1-531e-4efe-8cac-bcb3409e9afe",
     "showTitle": false,
     "tableResultSettingsMap": {},
     "title": ""
    }
   },
   "outputs": [
    {
     "output_type": "stream",
     "name": "stdout",
     "output_type": "stream",
     "text": [
      "Loading dataset from Hugging Face...\nDataset structure:\nDatasetDict({\n    train: Dataset({\n        features: ['tweet', 'sentiment', 'url'],\n        num_rows: 38091\n    })\n})\n"
     ]
    }
   ],
   "source": [
    "\n",
    "# Import necessary libraries\n",
    "from datasets import load_dataset\n",
    "\n",
    "# Load the Financial Tweets Sentiment dataset from Hugging Face\n",
    "print(\"Loading dataset from Hugging Face...\")\n",
    "dataset = load_dataset(\"TimKoornstra/financial-tweets-sentiment\")\n",
    "\n",
    "# Let's examine what we have\n",
    "print(\"Dataset structure:\")\n",
    "print(dataset)\n",
    "\n",
    "# Convert the dataset to a pandas DataFrame (first the train split)\n",
    "train_data = dataset['train']"
   ]
  },
  {
   "cell_type": "markdown",
   "metadata": {
    "application/vnd.databricks.v1+cell": {
     "cellMetadata": {
      "byteLimit": 2048000,
      "rowLimit": 10000
     },
     "inputWidgets": {},
     "nuid": "8a8f882a-1de0-4eea-8ce3-70ec5614b8ef",
     "showTitle": false,
     "tableResultSettingsMap": {},
     "title": ""
    }
   },
   "source": [
    "2\\. Remove the existing `streaming_source` directory from `/databricks/driver`, and recreate one.\n",
    "\n",
    "> You may want to run this again each time you start the data generator."
   ]
  },
  {
   "cell_type": "code",
   "execution_count": 0,
   "metadata": {
    "application/vnd.databricks.v1+cell": {
     "cellMetadata": {
      "byteLimit": 2048000,
      "rowLimit": 10000
     },
     "inputWidgets": {},
     "nuid": "f6ca8b74-7c87-42f0-8862-796c43f8b2ac",
     "showTitle": false,
     "tableResultSettingsMap": {},
     "title": ""
    }
   },
   "outputs": [],
   "source": [
    "%%bash\n",
    "rm -rf streaming_source\n",
    "mkdir streaming_source"
   ]
  },
  {
   "cell_type": "code",
   "execution_count": 0,
   "metadata": {
    "application/vnd.databricks.v1+cell": {
     "cellMetadata": {
      "byteLimit": 2048000,
      "rowLimit": 10000
     },
     "inputWidgets": {},
     "nuid": "d66b4936-6581-4a23-9bbe-f2a2b7f715d8",
     "showTitle": false,
     "tableResultSettingsMap": {},
     "title": ""
    }
   },
   "outputs": [
    {
     "output_type": "stream",
     "name": "stdout",
     "output_type": "stream",
     "text": [
      "Processed tweet 0 at 2025-04-07 08:08:54\nProcessed tweet 1 at 2025-04-07 08:08:55\nProcessed tweet 2 at 2025-04-07 08:08:56\nProcessed tweet 3 at 2025-04-07 08:08:57\nProcessed tweet 4 at 2025-04-07 08:08:58\nProcessed tweet 5 at 2025-04-07 08:08:59\nProcessed tweet 6 at 2025-04-07 08:09:00\nProcessed tweet 7 at 2025-04-07 08:09:01\nProcessed tweet 8 at 2025-04-07 08:09:02\nProcessed tweet 9 at 2025-04-07 08:09:03\nProcessed tweet 10 at 2025-04-07 08:09:04\nProcessed tweet 11 at 2025-04-07 08:09:05\nProcessed tweet 12 at 2025-04-07 08:09:06\nProcessed tweet 13 at 2025-04-07 08:09:07\nProcessed tweet 14 at 2025-04-07 08:09:08\nProcessed tweet 15 at 2025-04-07 08:09:09\nProcessed tweet 16 at 2025-04-07 08:09:10\nProcessed tweet 17 at 2025-04-07 08:09:11\nProcessed tweet 18 at 2025-04-07 08:09:12\nProcessed tweet 19 at 2025-04-07 08:09:13\nProcessed tweet 20 at 2025-04-07 08:09:14\nProcessed tweet 21 at 2025-04-07 08:09:15\nProcessed tweet 22 at 2025-04-07 08:09:16\nProcessed tweet 23 at 2025-04-07 08:09:17\nProcessed tweet 24 at 2025-04-07 08:09:18\nProcessed tweet 25 at 2025-04-07 08:09:19\nProcessed tweet 26 at 2025-04-07 08:09:20\nProcessed tweet 27 at 2025-04-07 08:09:21\nProcessed tweet 28 at 2025-04-07 08:09:22\nProcessed tweet 29 at 2025-04-07 08:09:23\nProcessed tweet 30 at 2025-04-07 08:09:24\nProcessed tweet 31 at 2025-04-07 08:09:25\nProcessed tweet 32 at 2025-04-07 08:09:26\nProcessed tweet 33 at 2025-04-07 08:09:27\nProcessed tweet 34 at 2025-04-07 08:09:28\nProcessed tweet 35 at 2025-04-07 08:09:29\nProcessed tweet 36 at 2025-04-07 08:09:30\nProcessed tweet 37 at 2025-04-07 08:09:31\nProcessed tweet 38 at 2025-04-07 08:09:32\nProcessed tweet 39 at 2025-04-07 08:09:33\nProcessed tweet 40 at 2025-04-07 08:09:34\nProcessed tweet 41 at 2025-04-07 08:09:35\nProcessed tweet 42 at 2025-04-07 08:09:36\nProcessed tweet 43 at 2025-04-07 08:09:37\nProcessed tweet 44 at 2025-04-07 08:09:38\nProcessed tweet 45 at 2025-04-07 08:09:39\nProcessed tweet 46 at 2025-04-07 08:09:40\nProcessed tweet 47 at 2025-04-07 08:09:41\nProcessed tweet 48 at 2025-04-07 08:09:42\nProcessed tweet 49 at 2025-04-07 08:09:43\nProcessed tweet 50 at 2025-04-07 08:09:44\nProcessed tweet 51 at 2025-04-07 08:09:45\nProcessed tweet 52 at 2025-04-07 08:09:46\nProcessed tweet 53 at 2025-04-07 08:09:47\nProcessed tweet 54 at 2025-04-07 08:09:48\nProcessed tweet 55 at 2025-04-07 08:09:49\nProcessed tweet 56 at 2025-04-07 08:09:50\nProcessed tweet 57 at 2025-04-07 08:09:51\nProcessed tweet 58 at 2025-04-07 08:09:52\nProcessed tweet 59 at 2025-04-07 08:09:53\nProcessed tweet 60 at 2025-04-07 08:09:54\nProcessed tweet 61 at 2025-04-07 08:09:55\nProcessed tweet 62 at 2025-04-07 08:09:56\nProcessed tweet 63 at 2025-04-07 08:09:57\nProcessed tweet 64 at 2025-04-07 08:09:58\nProcessed tweet 65 at 2025-04-07 08:09:59\nProcessed tweet 66 at 2025-04-07 08:10:00\nProcessed tweet 67 at 2025-04-07 08:10:01\nProcessed tweet 68 at 2025-04-07 08:10:02\nProcessed tweet 69 at 2025-04-07 08:10:03\nProcessed tweet 70 at 2025-04-07 08:10:04\nProcessed tweet 71 at 2025-04-07 08:10:05\nProcessed tweet 72 at 2025-04-07 08:10:06\nProcessed tweet 73 at 2025-04-07 08:10:07\nProcessed tweet 74 at 2025-04-07 08:10:08\nProcessed tweet 75 at 2025-04-07 08:10:09\nProcessed tweet 76 at 2025-04-07 08:10:10\nProcessed tweet 77 at 2025-04-07 08:10:11\nProcessed tweet 78 at 2025-04-07 08:10:12\nProcessed tweet 79 at 2025-04-07 08:10:13\nProcessed tweet 80 at 2025-04-07 08:10:14\nProcessed tweet 81 at 2025-04-07 08:10:15\nProcessed tweet 82 at 2025-04-07 08:10:16\nProcessed tweet 83 at 2025-04-07 08:10:17\nProcessed tweet 84 at 2025-04-07 08:10:18\nProcessed tweet 85 at 2025-04-07 08:10:19\nProcessed tweet 86 at 2025-04-07 08:10:20\nProcessed tweet 87 at 2025-04-07 08:10:21\nProcessed tweet 88 at 2025-04-07 08:10:22\nProcessed tweet 89 at 2025-04-07 08:10:23\nProcessed tweet 90 at 2025-04-07 08:10:24\nProcessed tweet 91 at 2025-04-07 08:10:25\nProcessed tweet 92 at 2025-04-07 08:10:26\nProcessed tweet 93 at 2025-04-07 08:10:27\nProcessed tweet 94 at 2025-04-07 08:10:28\nProcessed tweet 95 at 2025-04-07 08:10:29\nProcessed tweet 96 at 2025-04-07 08:10:30\nProcessed tweet 97 at 2025-04-07 08:10:31\nProcessed tweet 98 at 2025-04-07 08:10:32\nProcessed tweet 99 at 2025-04-07 08:10:33\nProcessed tweet 100 at 2025-04-07 08:10:34\nProcessed tweet 101 at 2025-04-07 08:10:35\nProcessed tweet 102 at 2025-04-07 08:10:36\nProcessed tweet 103 at 2025-04-07 08:10:37\nProcessed tweet 104 at 2025-04-07 08:10:38\nProcessed tweet 105 at 2025-04-07 08:10:39\nProcessed tweet 106 at 2025-04-07 08:10:40\nProcessed tweet 107 at 2025-04-07 08:10:41\nProcessed tweet 108 at 2025-04-07 08:10:42\nProcessed tweet 109 at 2025-04-07 08:10:43\nProcessed tweet 110 at 2025-04-07 08:10:44\nProcessed tweet 111 at 2025-04-07 08:10:45\nProcessed tweet 112 at 2025-04-07 08:10:46\nProcessed tweet 113 at 2025-04-07 08:10:47\nProcessed tweet 114 at 2025-04-07 08:10:48\nProcessed tweet 115 at 2025-04-07 08:10:49\nProcessed tweet 116 at 2025-04-07 08:10:50\nProcessed tweet 117 at 2025-04-07 08:10:51\nProcessed tweet 118 at 2025-04-07 08:10:52\nProcessed tweet 119 at 2025-04-07 08:10:53\nProcessed tweet 120 at 2025-04-07 08:10:54\nProcessed tweet 121 at 2025-04-07 08:10:55\nProcessed tweet 122 at 2025-04-07 08:10:56\nProcessed tweet 123 at 2025-04-07 08:10:57\nProcessed tweet 124 at 2025-04-07 08:10:58\nProcessed tweet 125 at 2025-04-07 08:10:59\nProcessed tweet 126 at 2025-04-07 08:11:00\nProcessed tweet 127 at 2025-04-07 08:11:01\nProcessed tweet 128 at 2025-04-07 08:11:02\nProcessed tweet 129 at 2025-04-07 08:11:03\nProcessed tweet 130 at 2025-04-07 08:11:04\nProcessed tweet 131 at 2025-04-07 08:11:05\nProcessed tweet 132 at 2025-04-07 08:11:06\nProcessed tweet 133 at 2025-04-07 08:11:07\nProcessed tweet 134 at 2025-04-07 08:11:08\nProcessed tweet 135 at 2025-04-07 08:11:09\nProcessed tweet 136 at 2025-04-07 08:11:10\nProcessed tweet 137 at 2025-04-07 08:11:11\nProcessed tweet 138 at 2025-04-07 08:11:12\nProcessed tweet 139 at 2025-04-07 08:11:13\nProcessed tweet 140 at 2025-04-07 08:11:14\nProcessed tweet 141 at 2025-04-07 08:11:15\nProcessed tweet 142 at 2025-04-07 08:11:16\nProcessed tweet 143 at 2025-04-07 08:11:17\nProcessed tweet 144 at 2025-04-07 08:11:18\nProcessed tweet 145 at 2025-04-07 08:11:19\nProcessed tweet 146 at 2025-04-07 08:11:20\nProcessed tweet 147 at 2025-04-07 08:11:21\nProcessed tweet 148 at 2025-04-07 08:11:22\nProcessed tweet 149 at 2025-04-07 08:11:23\nProcessed tweet 150 at 2025-04-07 08:11:24\nProcessed tweet 151 at 2025-04-07 08:11:25\nProcessed tweet 152 at 2025-04-07 08:11:26\nProcessed tweet 153 at 2025-04-07 08:11:27\nProcessed tweet 154 at 2025-04-07 08:11:28\nProcessed tweet 155 at 2025-04-07 08:11:29\nProcessed tweet 156 at 2025-04-07 08:11:30\nProcessed tweet 157 at 2025-04-07 08:11:31\nProcessed tweet 158 at 2025-04-07 08:11:32\nProcessed tweet 159 at 2025-04-07 08:11:33\nProcessed tweet 160 at 2025-04-07 08:11:34\nProcessed tweet 161 at 2025-04-07 08:11:35\nProcessed tweet 162 at 2025-04-07 08:11:36\nProcessed tweet 163 at 2025-04-07 08:11:37\nProcessed tweet 164 at 2025-04-07 08:11:38\nProcessed tweet 165 at 2025-04-07 08:11:39\nProcessed tweet 166 at 2025-04-07 08:11:40\nProcessed tweet 167 at 2025-04-07 08:11:41\nProcessed tweet 168 at 2025-04-07 08:11:42\nProcessed tweet 169 at 2025-04-07 08:11:43\nProcessed tweet 170 at 2025-04-07 08:11:44\nProcessed tweet 171 at 2025-04-07 08:11:45\nProcessed tweet 172 at 2025-04-07 08:11:46\nProcessed tweet 173 at 2025-04-07 08:11:47\nProcessed tweet 174 at 2025-04-07 08:11:48\nProcessed tweet 175 at 2025-04-07 08:11:49\nProcessed tweet 176 at 2025-04-07 08:11:50\nProcessed tweet 177 at 2025-04-07 08:11:51\nProcessed tweet 178 at 2025-04-07 08:11:52\nProcessed tweet 179 at 2025-04-07 08:11:53\nProcessed tweet 180 at 2025-04-07 08:11:54\nProcessed tweet 181 at 2025-04-07 08:11:55\nProcessed tweet 182 at 2025-04-07 08:11:56\nProcessed tweet 183 at 2025-04-07 08:11:57\nProcessed tweet 184 at 2025-04-07 08:11:58\nProcessed tweet 185 at 2025-04-07 08:11:59\nProcessed tweet 186 at 2025-04-07 08:12:00\nProcessed tweet 187 at 2025-04-07 08:12:01\nProcessed tweet 188 at 2025-04-07 08:12:02\nProcessed tweet 189 at 2025-04-07 08:12:03\nProcessed tweet 190 at 2025-04-07 08:12:04\nProcessed tweet 191 at 2025-04-07 08:12:05\nProcessed tweet 192 at 2025-04-07 08:12:06\nProcessed tweet 193 at 2025-04-07 08:12:07\nProcessed tweet 194 at 2025-04-07 08:12:08\nProcessed tweet 195 at 2025-04-07 08:12:09\nProcessed tweet 196 at 2025-04-07 08:12:10\nProcessed tweet 197 at 2025-04-07 08:12:11\nProcessed tweet 198 at 2025-04-07 08:12:12\nProcessed tweet 199 at 2025-04-07 08:12:13\nProcessed tweet 200 at 2025-04-07 08:12:14\nProcessed tweet 201 at 2025-04-07 08:12:15\nProcessed tweet 202 at 2025-04-07 08:12:16\nProcessed tweet 203 at 2025-04-07 08:12:17\nProcessed tweet 204 at 2025-04-07 08:12:18\nProcessed tweet 205 at 2025-04-07 08:12:19\nProcessed tweet 206 at 2025-04-07 08:12:20\nProcessed tweet 207 at 2025-04-07 08:12:21\nProcessed tweet 208 at 2025-04-07 08:12:22\nProcessed tweet 209 at 2025-04-07 08:12:23\nProcessed tweet 210 at 2025-04-07 08:12:24\nProcessed tweet 211 at 2025-04-07 08:12:25\nProcessed tweet 212 at 2025-04-07 08:12:26\nProcessed tweet 213 at 2025-04-07 08:12:27\nProcessed tweet 214 at 2025-04-07 08:12:28\nProcessed tweet 215 at 2025-04-07 08:12:29\nProcessed tweet 216 at 2025-04-07 08:12:30\nProcessed tweet 217 at 2025-04-07 08:12:31\nProcessed tweet 218 at 2025-04-07 08:12:32\nProcessed tweet 219 at 2025-04-07 08:12:33\nProcessed tweet 220 at 2025-04-07 08:12:34\nProcessed tweet 221 at 2025-04-07 08:12:35\nProcessed tweet 222 at 2025-04-07 08:12:36\nProcessed tweet 223 at 2025-04-07 08:12:37\nProcessed tweet 224 at 2025-04-07 08:12:38\nProcessed tweet 225 at 2025-04-07 08:12:39\nProcessed tweet 226 at 2025-04-07 08:12:40\nProcessed tweet 227 at 2025-04-07 08:12:41\nProcessed tweet 228 at 2025-04-07 08:12:42\nProcessed tweet 229 at 2025-04-07 08:12:43\nProcessed tweet 230 at 2025-04-07 08:12:44\nProcessed tweet 231 at 2025-04-07 08:12:45\nProcessed tweet 232 at 2025-04-07 08:12:46\nProcessed tweet 233 at 2025-04-07 08:12:47\nProcessed tweet 234 at 2025-04-07 08:12:48\nProcessed tweet 235 at 2025-04-07 08:12:49\nProcessed tweet 236 at 2025-04-07 08:12:50\nProcessed tweet 237 at 2025-04-07 08:12:51\nProcessed tweet 238 at 2025-04-07 08:12:52\nProcessed tweet 239 at 2025-04-07 08:12:53\nProcessed tweet 240 at 2025-04-07 08:12:54\nProcessed tweet 241 at 2025-04-07 08:12:55\nProcessed tweet 242 at 2025-04-07 08:12:56\nProcessed tweet 243 at 2025-04-07 08:12:57\nProcessed tweet 244 at 2025-04-07 08:12:58\nProcessed tweet 245 at 2025-04-07 08:12:59\nProcessed tweet 246 at 2025-04-07 08:13:00\nProcessed tweet 247 at 2025-04-07 08:13:01\nProcessed tweet 248 at 2025-04-07 08:13:02\nProcessed tweet 249 at 2025-04-07 08:13:03\nProcessed tweet 250 at 2025-04-07 08:13:04\nProcessed tweet 251 at 2025-04-07 08:13:05\nProcessed tweet 252 at 2025-04-07 08:13:06\nProcessed tweet 253 at 2025-04-07 08:13:07\nProcessed tweet 254 at 2025-04-07 08:13:08\nProcessed tweet 255 at 2025-04-07 08:13:09\nProcessed tweet 256 at 2025-04-07 08:13:10\nProcessed tweet 257 at 2025-04-07 08:13:11\nProcessed tweet 258 at 2025-04-07 08:13:12\nProcessed tweet 259 at 2025-04-07 08:13:13\nProcessed tweet 260 at 2025-04-07 08:13:14\nProcessed tweet 261 at 2025-04-07 08:13:15\nProcessed tweet 262 at 2025-04-07 08:13:16\nProcessed tweet 263 at 2025-04-07 08:13:17\nProcessed tweet 264 at 2025-04-07 08:13:18\nProcessed tweet 265 at 2025-04-07 08:13:19\nProcessed tweet 266 at 2025-04-07 08:13:20\nProcessed tweet 267 at 2025-04-07 08:13:21\nProcessed tweet 268 at 2025-04-07 08:13:22\nProcessed tweet 269 at 2025-04-07 08:13:23\nProcessed tweet 270 at 2025-04-07 08:13:24\nProcessed tweet 271 at 2025-04-07 08:13:25\nProcessed tweet 272 at 2025-04-07 08:13:26\nProcessed tweet 273 at 2025-04-07 08:13:27\nProcessed tweet 274 at 2025-04-07 08:13:28\nProcessed tweet 275 at 2025-04-07 08:13:29\nProcessed tweet 276 at 2025-04-07 08:13:30\nProcessed tweet 277 at 2025-04-07 08:13:31\nProcessed tweet 278 at 2025-04-07 08:13:32\nProcessed tweet 279 at 2025-04-07 08:13:33\nProcessed tweet 280 at 2025-04-07 08:13:34\nProcessed tweet 281 at 2025-04-07 08:13:35\nProcessed tweet 282 at 2025-04-07 08:13:36\nProcessed tweet 283 at 2025-04-07 08:13:37\nProcessed tweet 284 at 2025-04-07 08:13:38\nProcessed tweet 285 at 2025-04-07 08:13:39\nProcessed tweet 286 at 2025-04-07 08:13:40\nProcessed tweet 287 at 2025-04-07 08:13:41\nProcessed tweet 288 at 2025-04-07 08:13:42\nProcessed tweet 289 at 2025-04-07 08:13:43\nProcessed tweet 290 at 2025-04-07 08:13:44\nProcessed tweet 291 at 2025-04-07 08:13:45\nProcessed tweet 292 at 2025-04-07 08:13:46\nProcessed tweet 293 at 2025-04-07 08:13:47\nProcessed tweet 294 at 2025-04-07 08:13:48\nProcessed tweet 295 at 2025-04-07 08:13:49\nProcessed tweet 296 at 2025-04-07 08:13:50\nProcessed tweet 297 at 2025-04-07 08:13:51\nProcessed tweet 298 at 2025-04-07 08:13:52\nProcessed tweet 299 at 2025-04-07 08:13:53\nProcessed tweet 300 at 2025-04-07 08:13:54\nProcessed tweet 301 at 2025-04-07 08:13:55\nProcessed tweet 302 at 2025-04-07 08:13:56\nProcessed tweet 303 at 2025-04-07 08:13:57\nProcessed tweet 304 at 2025-04-07 08:13:58\nProcessed tweet 305 at 2025-04-07 08:13:59\nProcessed tweet 306 at 2025-04-07 08:14:00\nProcessed tweet 307 at 2025-04-07 08:14:01\nProcessed tweet 308 at 2025-04-07 08:14:02\nProcessed tweet 309 at 2025-04-07 08:14:03\nProcessed tweet 310 at 2025-04-07 08:14:04\nProcessed tweet 311 at 2025-04-07 08:14:05\nProcessed tweet 312 at 2025-04-07 08:14:06\nProcessed tweet 313 at 2025-04-07 08:14:07\nProcessed tweet 314 at 2025-04-07 08:14:08\nProcessed tweet 315 at 2025-04-07 08:14:09\nProcessed tweet 316 at 2025-04-07 08:14:10\nProcessed tweet 317 at 2025-04-07 08:14:11\nProcessed tweet 318 at 2025-04-07 08:14:12\nProcessed tweet 319 at 2025-04-07 08:14:13\nProcessed tweet 320 at 2025-04-07 08:14:14\nProcessed tweet 321 at 2025-04-07 08:14:15\nProcessed tweet 322 at 2025-04-07 08:14:16\nProcessed tweet 323 at 2025-04-07 08:14:17\nProcessed tweet 324 at 2025-04-07 08:14:18\nProcessed tweet 325 at 2025-04-07 08:14:19\nProcessed tweet 326 at 2025-04-07 08:14:20\nProcessed tweet 327 at 2025-04-07 08:14:21\nProcessed tweet 328 at 2025-04-07 08:14:22\nProcessed tweet 329 at 2025-04-07 08:14:23\nProcessed tweet 330 at 2025-04-07 08:14:24\nProcessed tweet 331 at 2025-04-07 08:14:25\nProcessed tweet 332 at 2025-04-07 08:14:26\nProcessed tweet 333 at 2025-04-07 08:14:27\nProcessed tweet 334 at 2025-04-07 08:14:28\nProcessed tweet 335 at 2025-04-07 08:14:29\nProcessed tweet 336 at 2025-04-07 08:14:30\nProcessed tweet 337 at 2025-04-07 08:14:31\nProcessed tweet 338 at 2025-04-07 08:14:32\nProcessed tweet 339 at 2025-04-07 08:14:33\nProcessed tweet 340 at 2025-04-07 08:14:34\nProcessed tweet 341 at 2025-04-07 08:14:35\nProcessed tweet 342 at 2025-04-07 08:14:36\nProcessed tweet 343 at 2025-04-07 08:14:37\nProcessed tweet 344 at 2025-04-07 08:14:38\nProcessed tweet 345 at 2025-04-07 08:14:39\nProcessed tweet 346 at 2025-04-07 08:14:40\nProcessed tweet 347 at 2025-04-07 08:14:41\nProcessed tweet 348 at 2025-04-07 08:14:42\nProcessed tweet 349 at 2025-04-07 08:14:43\nProcessed tweet 350 at 2025-04-07 08:14:44\nProcessed tweet 351 at 2025-04-07 08:14:45\nProcessed tweet 352 at 2025-04-07 08:14:46\nProcessed tweet 353 at 2025-04-07 08:14:47\nProcessed tweet 354 at 2025-04-07 08:14:48\nProcessed tweet 355 at 2025-04-07 08:14:49\nProcessed tweet 356 at 2025-04-07 08:14:50\nProcessed tweet 357 at 2025-04-07 08:14:51\nProcessed tweet 358 at 2025-04-07 08:14:52\nProcessed tweet 359 at 2025-04-07 08:14:53\nProcessed tweet 360 at 2025-04-07 08:14:54\nProcessed tweet 361 at 2025-04-07 08:14:55\nProcessed tweet 362 at 2025-04-07 08:14:56\nProcessed tweet 363 at 2025-04-07 08:14:57\nProcessed tweet 364 at 2025-04-07 08:14:58\nProcessed tweet 365 at 2025-04-07 08:14:59\nProcessed tweet 366 at 2025-04-07 08:15:00\nProcessed tweet 367 at 2025-04-07 08:15:01\nProcessed tweet 368 at 2025-04-07 08:15:03\nProcessed tweet 369 at 2025-04-07 08:15:04\nProcessed tweet 370 at 2025-04-07 08:15:05\nProcessed tweet 371 at 2025-04-07 08:15:06\nProcessed tweet 372 at 2025-04-07 08:15:07\nProcessed tweet 373 at 2025-04-07 08:15:08\nProcessed tweet 374 at 2025-04-07 08:15:09\nProcessed tweet 375 at 2025-04-07 08:15:10\nProcessed tweet 376 at 2025-04-07 08:15:11\nProcessed tweet 377 at 2025-04-07 08:15:12\nProcessed tweet 378 at 2025-04-07 08:15:13\nProcessed tweet 379 at 2025-04-07 08:15:14\nProcessed tweet 380 at 2025-04-07 08:15:15\nProcessed tweet 381 at 2025-04-07 08:15:16\nProcessed tweet 382 at 2025-04-07 08:15:17\nProcessed tweet 383 at 2025-04-07 08:15:18\nProcessed tweet 384 at 2025-04-07 08:15:19\nProcessed tweet 385 at 2025-04-07 08:15:20\nProcessed tweet 386 at 2025-04-07 08:15:21\nProcessed tweet 387 at 2025-04-07 08:15:22\nProcessed tweet 388 at 2025-04-07 08:15:23\nProcessed tweet 389 at 2025-04-07 08:15:24\nProcessed tweet 390 at 2025-04-07 08:15:25\nProcessed tweet 391 at 2025-04-07 08:15:26\nProcessed tweet 392 at 2025-04-07 08:15:27\nProcessed tweet 393 at 2025-04-07 08:15:28\nProcessed tweet 394 at 2025-04-07 08:15:29\nProcessed tweet 395 at 2025-04-07 08:15:30\nProcessed tweet 396 at 2025-04-07 08:15:31\nProcessed tweet 397 at 2025-04-07 08:15:32\nProcessed tweet 398 at 2025-04-07 08:15:33\nProcessed tweet 399 at 2025-04-07 08:15:34\nProcessed tweet 400 at 2025-04-07 08:15:35\nProcessed tweet 401 at 2025-04-07 08:15:36\nProcessed tweet 402 at 2025-04-07 08:15:37\nProcessed tweet 403 at 2025-04-07 08:15:38\nProcessed tweet 404 at 2025-04-07 08:15:39\nProcessed tweet 405 at 2025-04-07 08:15:40\nProcessed tweet 406 at 2025-04-07 08:15:41\nProcessed tweet 407 at 2025-04-07 08:15:42\nProcessed tweet 408 at 2025-04-07 08:15:43\nProcessed tweet 409 at 2025-04-07 08:15:44\nProcessed tweet 410 at 2025-04-07 08:15:45\nProcessed tweet 411 at 2025-04-07 08:15:46\nProcessed tweet 412 at 2025-04-07 08:15:47\nProcessed tweet 413 at 2025-04-07 08:15:48\nProcessed tweet 414 at 2025-04-07 08:15:49\nProcessed tweet 415 at 2025-04-07 08:15:50\nProcessed tweet 416 at 2025-04-07 08:15:51\nProcessed tweet 417 at 2025-04-07 08:15:52\nProcessed tweet 418 at 2025-04-07 08:15:53\nProcessed tweet 419 at 2025-04-07 08:15:54\nProcessed tweet 420 at 2025-04-07 08:15:55\nProcessed tweet 421 at 2025-04-07 08:15:56\nProcessed tweet 422 at 2025-04-07 08:15:57\nProcessed tweet 423 at 2025-04-07 08:15:58\nProcessed tweet 424 at 2025-04-07 08:15:59\nProcessed tweet 425 at 2025-04-07 08:16:00\nProcessed tweet 426 at 2025-04-07 08:16:01\nProcessed tweet 427 at 2025-04-07 08:16:02\nProcessed tweet 428 at 2025-04-07 08:16:03\nProcessed tweet 429 at 2025-04-07 08:16:04\nProcessed tweet 430 at 2025-04-07 08:16:05\nProcessed tweet 431 at 2025-04-07 08:16:06\nProcessed tweet 432 at 2025-04-07 08:16:07\nProcessed tweet 433 at 2025-04-07 08:16:08\nProcessed tweet 434 at 2025-04-07 08:16:09\nProcessed tweet 435 at 2025-04-07 08:16:10\nProcessed tweet 436 at 2025-04-07 08:16:11\nProcessed tweet 437 at 2025-04-07 08:16:12\nProcessed tweet 438 at 2025-04-07 08:16:13\nProcessed tweet 439 at 2025-04-07 08:16:14\nProcessed tweet 440 at 2025-04-07 08:16:15\nProcessed tweet 441 at 2025-04-07 08:16:16\nProcessed tweet 442 at 2025-04-07 08:16:17\nProcessed tweet 443 at 2025-04-07 08:16:18\nProcessed tweet 444 at 2025-04-07 08:16:19\nProcessed tweet 445 at 2025-04-07 08:16:20\nProcessed tweet 446 at 2025-04-07 08:16:21\nProcessed tweet 447 at 2025-04-07 08:16:22\nProcessed tweet 448 at 2025-04-07 08:16:23\nProcessed tweet 449 at 2025-04-07 08:16:24\nProcessed tweet 450 at 2025-04-07 08:16:25\nProcessed tweet 451 at 2025-04-07 08:16:26\nProcessed tweet 452 at 2025-04-07 08:16:27\nProcessed tweet 453 at 2025-04-07 08:16:28\nProcessed tweet 454 at 2025-04-07 08:16:29\nProcessed tweet 455 at 2025-04-07 08:16:30\nProcessed tweet 456 at 2025-04-07 08:16:31\nProcessed tweet 457 at 2025-04-07 08:16:32\nProcessed tweet 458 at 2025-04-07 08:16:33\nProcessed tweet 459 at 2025-04-07 08:16:34\nProcessed tweet 460 at 2025-04-07 08:16:35\nProcessed tweet 461 at 2025-04-07 08:16:36\nProcessed tweet 462 at 2025-04-07 08:16:37\nProcessed tweet 463 at 2025-04-07 08:16:38\nProcessed tweet 464 at 2025-04-07 08:16:39\nProcessed tweet 465 at 2025-04-07 08:16:40\nProcessed tweet 466 at 2025-04-07 08:16:41\nProcessed tweet 467 at 2025-04-07 08:16:42\nProcessed tweet 468 at 2025-04-07 08:16:43\nProcessed tweet 469 at 2025-04-07 08:16:44\nProcessed tweet 470 at 2025-04-07 08:16:45\nProcessed tweet 471 at 2025-04-07 08:16:46\nProcessed tweet 472 at 2025-04-07 08:16:47\nProcessed tweet 473 at 2025-04-07 08:16:48\nProcessed tweet 474 at 2025-04-07 08:16:49\nProcessed tweet 475 at 2025-04-07 08:16:50\nProcessed tweet 476 at 2025-04-07 08:16:51\nProcessed tweet 477 at 2025-04-07 08:16:52\nProcessed tweet 478 at 2025-04-07 08:16:53\nProcessed tweet 479 at 2025-04-07 08:16:54\nProcessed tweet 480 at 2025-04-07 08:16:55\nProcessed tweet 481 at 2025-04-07 08:16:56\nProcessed tweet 482 at 2025-04-07 08:16:57\nProcessed tweet 483 at 2025-04-07 08:16:58\nProcessed tweet 484 at 2025-04-07 08:16:59\nProcessed tweet 485 at 2025-04-07 08:17:00\nProcessed tweet 486 at 2025-04-07 08:17:01\nProcessed tweet 487 at 2025-04-07 08:17:02\nProcessed tweet 488 at 2025-04-07 08:17:03\nProcessed tweet 489 at 2025-04-07 08:17:04\nProcessed tweet 490 at 2025-04-07 08:17:05\nProcessed tweet 491 at 2025-04-07 08:17:06\nProcessed tweet 492 at 2025-04-07 08:17:07\nProcessed tweet 493 at 2025-04-07 08:17:08\nProcessed tweet 494 at 2025-04-07 08:17:09\nProcessed tweet 495 at 2025-04-07 08:17:10\nProcessed tweet 496 at 2025-04-07 08:17:11\nProcessed tweet 497 at 2025-04-07 08:17:12\nProcessed tweet 498 at 2025-04-07 08:17:13\nProcessed tweet 499 at 2025-04-07 08:17:14\nProcessed tweet 500 at 2025-04-07 08:17:15\nProcessed tweet 501 at 2025-04-07 08:17:16\nProcessed tweet 502 at 2025-04-07 08:17:17\nProcessed tweet 503 at 2025-04-07 08:17:18\nProcessed tweet 504 at 2025-04-07 08:17:19\nProcessed tweet 505 at 2025-04-07 08:17:20\nProcessed tweet 506 at 2025-04-07 08:17:21\nProcessed tweet 507 at 2025-04-07 08:17:22\nProcessed tweet 508 at 2025-04-07 08:17:23\nProcessed tweet 509 at 2025-04-07 08:17:24\nProcessed tweet 510 at 2025-04-07 08:17:25\nProcessed tweet 511 at 2025-04-07 08:17:26\nProcessed tweet 512 at 2025-04-07 08:17:27\nProcessed tweet 513 at 2025-04-07 08:17:28\nProcessed tweet 514 at 2025-04-07 08:17:29\nProcessed tweet 515 at 2025-04-07 08:17:30\nProcessed tweet 516 at 2025-04-07 08:17:31\nProcessed tweet 517 at 2025-04-07 08:17:32\nProcessed tweet 518 at 2025-04-07 08:17:33\nProcessed tweet 519 at 2025-04-07 08:17:34\nProcessed tweet 520 at 2025-04-07 08:17:35\nProcessed tweet 521 at 2025-04-07 08:17:36\nProcessed tweet 522 at 2025-04-07 08:17:37\nProcessed tweet 523 at 2025-04-07 08:17:38\nProcessed tweet 524 at 2025-04-07 08:17:39\nProcessed tweet 525 at 2025-04-07 08:17:40\nProcessed tweet 526 at 2025-04-07 08:17:41\nProcessed tweet 527 at 2025-04-07 08:17:42\nProcessed tweet 528 at 2025-04-07 08:17:43\nProcessed tweet 529 at 2025-04-07 08:17:44\nProcessed tweet 530 at 2025-04-07 08:17:45\nProcessed tweet 531 at 2025-04-07 08:17:46\nProcessed tweet 532 at 2025-04-07 08:17:47\nProcessed tweet 533 at 2025-04-07 08:17:48\nProcessed tweet 534 at 2025-04-07 08:17:49\nProcessed tweet 535 at 2025-04-07 08:17:50\nProcessed tweet 536 at 2025-04-07 08:17:51\nProcessed tweet 537 at 2025-04-07 08:17:52\nProcessed tweet 538 at 2025-04-07 08:17:53\nProcessed tweet 539 at 2025-04-07 08:17:54\nProcessed tweet 540 at 2025-04-07 08:17:55\nProcessed tweet 541 at 2025-04-07 08:17:56\nProcessed tweet 542 at 2025-04-07 08:17:57\nProcessed tweet 543 at 2025-04-07 08:17:58\nProcessed tweet 544 at 2025-04-07 08:17:59\nProcessed tweet 545 at 2025-04-07 08:18:00\nProcessed tweet 546 at 2025-04-07 08:18:01\nProcessed tweet 547 at 2025-04-07 08:18:02\nProcessed tweet 548 at 2025-04-07 08:18:03\nProcessed tweet 549 at 2025-04-07 08:18:04\nProcessed tweet 550 at 2025-04-07 08:18:05\nProcessed tweet 551 at 2025-04-07 08:18:06\nProcessed tweet 552 at 2025-04-07 08:18:07\nProcessed tweet 553 at 2025-04-07 08:18:08\nProcessed tweet 554 at 2025-04-07 08:18:09\nProcessed tweet 555 at 2025-04-07 08:18:10\nProcessed tweet 556 at 2025-04-07 08:18:11\nProcessed tweet 557 at 2025-04-07 08:18:12\nProcessed tweet 558 at 2025-04-07 08:18:13\nProcessed tweet 559 at 2025-04-07 08:18:14\nProcessed tweet 560 at 2025-04-07 08:18:15\nProcessed tweet 561 at 2025-04-07 08:18:16\nProcessed tweet 562 at 2025-04-07 08:18:17\nProcessed tweet 563 at 2025-04-07 08:18:18\nProcessed tweet 564 at 2025-04-07 08:18:19\nProcessed tweet 565 at 2025-04-07 08:18:20\nProcessed tweet 566 at 2025-04-07 08:18:21\nProcessed tweet 567 at 2025-04-07 08:18:22\nProcessed tweet 568 at 2025-04-07 08:18:23\nProcessed tweet 569 at 2025-04-07 08:18:24\nProcessed tweet 570 at 2025-04-07 08:18:25\nProcessed tweet 571 at 2025-04-07 08:18:26\nProcessed tweet 572 at 2025-04-07 08:18:27\nProcessed tweet 573 at 2025-04-07 08:18:28\nProcessed tweet 574 at 2025-04-07 08:18:29\nProcessed tweet 575 at 2025-04-07 08:18:30\nProcessed tweet 576 at 2025-04-07 08:18:31\nProcessed tweet 577 at 2025-04-07 08:18:32\nProcessed tweet 578 at 2025-04-07 08:18:33\nProcessed tweet 579 at 2025-04-07 08:18:34\nProcessed tweet 580 at 2025-04-07 08:18:35\nProcessed tweet 581 at 2025-04-07 08:18:36\nProcessed tweet 582 at 2025-04-07 08:18:37\nProcessed tweet 583 at 2025-04-07 08:18:38\nProcessed tweet 584 at 2025-04-07 08:18:39\nProcessed tweet 585 at 2025-04-07 08:18:40\nProcessed tweet 586 at 2025-04-07 08:18:41\nProcessed tweet 587 at 2025-04-07 08:18:42\nProcessed tweet 588 at 2025-04-07 08:18:43\nProcessed tweet 589 at 2025-04-07 08:18:44\nProcessed tweet 590 at 2025-04-07 08:18:45\nProcessed tweet 591 at 2025-04-07 08:18:46\nProcessed tweet 592 at 2025-04-07 08:18:47\nProcessed tweet 593 at 2025-04-07 08:18:48\nProcessed tweet 594 at 2025-04-07 08:18:49\nProcessed tweet 595 at 2025-04-07 08:18:50\nProcessed tweet 596 at 2025-04-07 08:18:51\nProcessed tweet 597 at 2025-04-07 08:18:52\nProcessed tweet 598 at 2025-04-07 08:18:53\nProcessed tweet 599 at 2025-04-07 08:18:54\nProcessed tweet 600 at 2025-04-07 08:18:55\nProcessed tweet 601 at 2025-04-07 08:18:56\nProcessed tweet 602 at 2025-04-07 08:18:57\nProcessed tweet 603 at 2025-04-07 08:18:58\nProcessed tweet 604 at 2025-04-07 08:18:59\nProcessed tweet 605 at 2025-04-07 08:19:00\nProcessed tweet 606 at 2025-04-07 08:19:01\nProcessed tweet 607 at 2025-04-07 08:19:02\nProcessed tweet 608 at 2025-04-07 08:19:03\nProcessed tweet 609 at 2025-04-07 08:19:04\nProcessed tweet 610 at 2025-04-07 08:19:05\nProcessed tweet 611 at 2025-04-07 08:19:06\nProcessed tweet 612 at 2025-04-07 08:19:07\nProcessed tweet 613 at 2025-04-07 08:19:08\nProcessed tweet 614 at 2025-04-07 08:19:09\nProcessed tweet 615 at 2025-04-07 08:19:10\nProcessed tweet 616 at 2025-04-07 08:19:11\nProcessed tweet 617 at 2025-04-07 08:19:12\nProcessed tweet 618 at 2025-04-07 08:19:13\nProcessed tweet 619 at 2025-04-07 08:19:14\nProcessed tweet 620 at 2025-04-07 08:19:15\nProcessed tweet 621 at 2025-04-07 08:19:16\nProcessed tweet 622 at 2025-04-07 08:19:17\nProcessed tweet 623 at 2025-04-07 08:19:18\nProcessed tweet 624 at 2025-04-07 08:19:19\nProcessed tweet 625 at 2025-04-07 08:19:20\nProcessed tweet 626 at 2025-04-07 08:19:21\nProcessed tweet 627 at 2025-04-07 08:19:22\nProcessed tweet 628 at 2025-04-07 08:19:23\nProcessed tweet 629 at 2025-04-07 08:19:24\nProcessed tweet 630 at 2025-04-07 08:19:25\nProcessed tweet 631 at 2025-04-07 08:19:26\nProcessed tweet 632 at 2025-04-07 08:19:27\nProcessed tweet 633 at 2025-04-07 08:19:28\nProcessed tweet 634 at 2025-04-07 08:19:29\nProcessed tweet 635 at 2025-04-07 08:19:30\nProcessed tweet 636 at 2025-04-07 08:19:31\nProcessed tweet 637 at 2025-04-07 08:19:32\nProcessed tweet 638 at 2025-04-07 08:19:33\nProcessed tweet 639 at 2025-04-07 08:19:34\nProcessed tweet 640 at 2025-04-07 08:19:35\nProcessed tweet 641 at 2025-04-07 08:19:36\nProcessed tweet 642 at 2025-04-07 08:19:37\nProcessed tweet 643 at 2025-04-07 08:19:38\nProcessed tweet 644 at 2025-04-07 08:19:39\nProcessed tweet 645 at 2025-04-07 08:19:40\nProcessed tweet 646 at 2025-04-07 08:19:41\nProcessed tweet 647 at 2025-04-07 08:19:42\nProcessed tweet 648 at 2025-04-07 08:19:43\nProcessed tweet 649 at 2025-04-07 08:19:44\nProcessed tweet 650 at 2025-04-07 08:19:45\nProcessed tweet 651 at 2025-04-07 08:19:46\nProcessed tweet 652 at 2025-04-07 08:19:47\nProcessed tweet 653 at 2025-04-07 08:19:48\nProcessed tweet 654 at 2025-04-07 08:19:49\nProcessed tweet 655 at 2025-04-07 08:19:50\nProcessed tweet 656 at 2025-04-07 08:19:51\nProcessed tweet 657 at 2025-04-07 08:19:52\nProcessed tweet 658 at 2025-04-07 08:19:53\nProcessed tweet 659 at 2025-04-07 08:19:54\nProcessed tweet 660 at 2025-04-07 08:19:55\nProcessed tweet 661 at 2025-04-07 08:19:56\nProcessed tweet 662 at 2025-04-07 08:19:57\nProcessed tweet 663 at 2025-04-07 08:19:58\nProcessed tweet 664 at 2025-04-07 08:19:59\nProcessed tweet 665 at 2025-04-07 08:20:00\nProcessed tweet 666 at 2025-04-07 08:20:01\nProcessed tweet 667 at 2025-04-07 08:20:02\nProcessed tweet 668 at 2025-04-07 08:20:03\nProcessed tweet 669 at 2025-04-07 08:20:04\nProcessed tweet 670 at 2025-04-07 08:20:05\nProcessed tweet 671 at 2025-04-07 08:20:06\nProcessed tweet 672 at 2025-04-07 08:20:07\nProcessed tweet 673 at 2025-04-07 08:20:08\nProcessed tweet 674 at 2025-04-07 08:20:09\nProcessed tweet 675 at 2025-04-07 08:20:10\nProcessed tweet 676 at 2025-04-07 08:20:11\nProcessed tweet 677 at 2025-04-07 08:20:12\nProcessed tweet 678 at 2025-04-07 08:20:13\nProcessed tweet 679 at 2025-04-07 08:20:14\nProcessed tweet 680 at 2025-04-07 08:20:15\nProcessed tweet 681 at 2025-04-07 08:20:16\nProcessed tweet 682 at 2025-04-07 08:20:17\nProcessed tweet 683 at 2025-04-07 08:20:18\nProcessed tweet 684 at 2025-04-07 08:20:19\nProcessed tweet 685 at 2025-04-07 08:20:20\nProcessed tweet 686 at 2025-04-07 08:20:21\nProcessed tweet 687 at 2025-04-07 08:20:22\nProcessed tweet 688 at 2025-04-07 08:20:23\nProcessed tweet 689 at 2025-04-07 08:20:24\nProcessed tweet 690 at 2025-04-07 08:20:25\nProcessed tweet 691 at 2025-04-07 08:20:26\nProcessed tweet 692 at 2025-04-07 08:20:27\nProcessed tweet 693 at 2025-04-07 08:20:28\nProcessed tweet 694 at 2025-04-07 08:20:29\nProcessed tweet 695 at 2025-04-07 08:20:30\nProcessed tweet 696 at 2025-04-07 08:20:31\nProcessed tweet 697 at 2025-04-07 08:20:32\nProcessed tweet 698 at 2025-04-07 08:20:33\nProcessed tweet 699 at 2025-04-07 08:20:34\nProcessed tweet 700 at 2025-04-07 08:20:35\nProcessed tweet 701 at 2025-04-07 08:20:36\nProcessed tweet 702 at 2025-04-07 08:20:37\nProcessed tweet 703 at 2025-04-07 08:20:38\nProcessed tweet 704 at 2025-04-07 08:20:39\nProcessed tweet 705 at 2025-04-07 08:20:40\nProcessed tweet 706 at 2025-04-07 08:20:41\nProcessed tweet 707 at 2025-04-07 08:20:42\nProcessed tweet 708 at 2025-04-07 08:20:43\nProcessed tweet 709 at 2025-04-07 08:20:44\nProcessed tweet 710 at 2025-04-07 08:20:45\nProcessed tweet 711 at 2025-04-07 08:20:46\nProcessed tweet 712 at 2025-04-07 08:20:47\nProcessed tweet 713 at 2025-04-07 08:20:48\nProcessed tweet 714 at 2025-04-07 08:20:49\nProcessed tweet 715 at 2025-04-07 08:20:50\nProcessed tweet 716 at 2025-04-07 08:20:51\nProcessed tweet 717 at 2025-04-07 08:20:52\nProcessed tweet 718 at 2025-04-07 08:20:53\nProcessed tweet 719 at 2025-04-07 08:20:54\nProcessed tweet 720 at 2025-04-07 08:20:55\nProcessed tweet 721 at 2025-04-07 08:20:56\nProcessed tweet 722 at 2025-04-07 08:20:57\nProcessed tweet 723 at 2025-04-07 08:20:58\nProcessed tweet 724 at 2025-04-07 08:20:59\nProcessed tweet 725 at 2025-04-07 08:21:00\nProcessed tweet 726 at 2025-04-07 08:21:01\nProcessed tweet 727 at 2025-04-07 08:21:02\nProcessed tweet 728 at 2025-04-07 08:21:03\nProcessed tweet 729 at 2025-04-07 08:21:04\nProcessed tweet 730 at 2025-04-07 08:21:05\nProcessed tweet 731 at 2025-04-07 08:21:06\nProcessed tweet 732 at 2025-04-07 08:21:07\nProcessed tweet 733 at 2025-04-07 08:21:08\nProcessed tweet 734 at 2025-04-07 08:21:09\nProcessed tweet 735 at 2025-04-07 08:21:10\nProcessed tweet 736 at 2025-04-07 08:21:11\nProcessed tweet 737 at 2025-04-07 08:21:12\nProcessed tweet 738 at 2025-04-07 08:21:13\nProcessed tweet 739 at 2025-04-07 08:21:14\nProcessed tweet 740 at 2025-04-07 08:21:15\nProcessed tweet 741 at 2025-04-07 08:21:16\nProcessed tweet 742 at 2025-04-07 08:21:17\nProcessed tweet 743 at 2025-04-07 08:21:18\nProcessed tweet 744 at 2025-04-07 08:21:19\nProcessed tweet 745 at 2025-04-07 08:21:20\nProcessed tweet 746 at 2025-04-07 08:21:21\nProcessed tweet 747 at 2025-04-07 08:21:22\nProcessed tweet 748 at 2025-04-07 08:21:23\nProcessed tweet 749 at 2025-04-07 08:21:24\nProcessed tweet 750 at 2025-04-07 08:21:25\nProcessed tweet 751 at 2025-04-07 08:21:26\nProcessed tweet 752 at 2025-04-07 08:21:27\nProcessed tweet 753 at 2025-04-07 08:21:28\nProcessed tweet 754 at 2025-04-07 08:21:29\nProcessed tweet 755 at 2025-04-07 08:21:30\nProcessed tweet 756 at 2025-04-07 08:21:31\nProcessed tweet 757 at 2025-04-07 08:21:32\nProcessed tweet 758 at 2025-04-07 08:21:33\nProcessed tweet 759 at 2025-04-07 08:21:34\nProcessed tweet 760 at 2025-04-07 08:21:35\nProcessed tweet 761 at 2025-04-07 08:21:36\nProcessed tweet 762 at 2025-04-07 08:21:37\nProcessed tweet 763 at 2025-04-07 08:21:38\nProcessed tweet 764 at 2025-04-07 08:21:39\nProcessed tweet 765 at 2025-04-07 08:21:40\nProcessed tweet 766 at 2025-04-07 08:21:41\nProcessed tweet 767 at 2025-04-07 08:21:42\nProcessed tweet 768 at 2025-04-07 08:21:43\nProcessed tweet 769 at 2025-04-07 08:21:44\nProcessed tweet 770 at 2025-04-07 08:21:45\nProcessed tweet 771 at 2025-04-07 08:21:46\nProcessed tweet 772 at 2025-04-07 08:21:47\nProcessed tweet 773 at 2025-04-07 08:21:48\nProcessed tweet 774 at 2025-04-07 08:21:49\nProcessed tweet 775 at 2025-04-07 08:21:50\nProcessed tweet 776 at 2025-04-07 08:21:51\nProcessed tweet 777 at 2025-04-07 08:21:52\nProcessed tweet 778 at 2025-04-07 08:21:53\nProcessed tweet 779 at 2025-04-07 08:21:54\nProcessed tweet 780 at 2025-04-07 08:21:55\nProcessed tweet 781 at 2025-04-07 08:21:56\nProcessed tweet 782 at 2025-04-07 08:21:57\nProcessed tweet 783 at 2025-04-07 08:21:58\nProcessed tweet 784 at 2025-04-07 08:21:59\nProcessed tweet 785 at 2025-04-07 08:22:00\nProcessed tweet 786 at 2025-04-07 08:22:01\nProcessed tweet 787 at 2025-04-07 08:22:02\nProcessed tweet 788 at 2025-04-07 08:22:03\nProcessed tweet 789 at 2025-04-07 08:22:04\nProcessed tweet 790 at 2025-04-07 08:22:05\nProcessed tweet 791 at 2025-04-07 08:22:06\nProcessed tweet 792 at 2025-04-07 08:22:07\nProcessed tweet 793 at 2025-04-07 08:22:08\nProcessed tweet 794 at 2025-04-07 08:22:09\nProcessed tweet 795 at 2025-04-07 08:22:10\nProcessed tweet 796 at 2025-04-07 08:22:11\nProcessed tweet 797 at 2025-04-07 08:22:12\nProcessed tweet 798 at 2025-04-07 08:22:13\nProcessed tweet 799 at 2025-04-07 08:22:14\nProcessed tweet 800 at 2025-04-07 08:22:15\nProcessed tweet 801 at 2025-04-07 08:22:16\nProcessed tweet 802 at 2025-04-07 08:22:17\nProcessed tweet 803 at 2025-04-07 08:22:18\nProcessed tweet 804 at 2025-04-07 08:22:19\nProcessed tweet 805 at 2025-04-07 08:22:20\nProcessed tweet 806 at 2025-04-07 08:22:21\nProcessed tweet 807 at 2025-04-07 08:22:22\nProcessed tweet 808 at 2025-04-07 08:22:23\nProcessed tweet 809 at 2025-04-07 08:22:24\nProcessed tweet 810 at 2025-04-07 08:22:25\nProcessed tweet 811 at 2025-04-07 08:22:26\nProcessed tweet 812 at 2025-04-07 08:22:27\nProcessed tweet 813 at 2025-04-07 08:22:28\nProcessed tweet 814 at 2025-04-07 08:22:29\nProcessed tweet 815 at 2025-04-07 08:22:30\nProcessed tweet 816 at 2025-04-07 08:22:31\nProcessed tweet 817 at 2025-04-07 08:22:32\nProcessed tweet 818 at 2025-04-07 08:22:33\nProcessed tweet 819 at 2025-04-07 08:22:34\nProcessed tweet 820 at 2025-04-07 08:22:35\nProcessed tweet 821 at 2025-04-07 08:22:36\nProcessed tweet 822 at 2025-04-07 08:22:37\nProcessed tweet 823 at 2025-04-07 08:22:38\nProcessed tweet 824 at 2025-04-07 08:22:39\nProcessed tweet 825 at 2025-04-07 08:22:40\nProcessed tweet 826 at 2025-04-07 08:22:41\nProcessed tweet 827 at 2025-04-07 08:22:42\nProcessed tweet 828 at 2025-04-07 08:22:43\nProcessed tweet 829 at 2025-04-07 08:22:44\nProcessed tweet 830 at 2025-04-07 08:22:45\nProcessed tweet 831 at 2025-04-07 08:22:46\nProcessed tweet 832 at 2025-04-07 08:22:47\nProcessed tweet 833 at 2025-04-07 08:22:48\nProcessed tweet 834 at 2025-04-07 08:22:49\nProcessed tweet 835 at 2025-04-07 08:22:50\nProcessed tweet 836 at 2025-04-07 08:22:51\nProcessed tweet 837 at 2025-04-07 08:22:52\nProcessed tweet 838 at 2025-04-07 08:22:53\nProcessed tweet 839 at 2025-04-07 08:22:54\nProcessed tweet 840 at 2025-04-07 08:22:56\nProcessed tweet 841 at 2025-04-07 08:22:57\nProcessed tweet 842 at 2025-04-07 08:22:58\nProcessed tweet 843 at 2025-04-07 08:22:59\nProcessed tweet 844 at 2025-04-07 08:23:00\nProcessed tweet 845 at 2025-04-07 08:23:01\nProcessed tweet 846 at 2025-04-07 08:23:02\nProcessed tweet 847 at 2025-04-07 08:23:03\nProcessed tweet 848 at 2025-04-07 08:23:04\nProcessed tweet 849 at 2025-04-07 08:23:05\nProcessed tweet 850 at 2025-04-07 08:23:06\nProcessed tweet 851 at 2025-04-07 08:23:07\nProcessed tweet 852 at 2025-04-07 08:23:08\nProcessed tweet 853 at 2025-04-07 08:23:09\nProcessed tweet 854 at 2025-04-07 08:23:10\nProcessed tweet 855 at 2025-04-07 08:23:11\nProcessed tweet 856 at 2025-04-07 08:23:12\nProcessed tweet 857 at 2025-04-07 08:23:13\nProcessed tweet 858 at 2025-04-07 08:23:14\nProcessed tweet 859 at 2025-04-07 08:23:15\nProcessed tweet 860 at 2025-04-07 08:23:16\nProcessed tweet 861 at 2025-04-07 08:23:17\nProcessed tweet 862 at 2025-04-07 08:23:18\nProcessed tweet 863 at 2025-04-07 08:23:19\nProcessed tweet 864 at 2025-04-07 08:23:20\nProcessed tweet 865 at 2025-04-07 08:23:21\nProcessed tweet 866 at 2025-04-07 08:23:22\nProcessed tweet 867 at 2025-04-07 08:23:23\n"
     ]
    },
    {
     "output_type": "display_data",
     "data": {
      "text/html": [
       "<style scoped>\n",
       "  .ansiout {\n",
       "    display: block;\n",
       "    unicode-bidi: embed;\n",
       "    white-space: pre-wrap;\n",
       "    word-wrap: break-word;\n",
       "    word-break: break-all;\n",
       "    font-family: \"Menlo\", \"Monaco\", \"Consolas\", \"Ubuntu Mono\", \"Source Code Pro\", monospace;\n",
       "    font-size: 13px;\n",
       "    color: #555;\n",
       "    margin-left: 4px;\n",
       "    line-height: 19px;\n",
       "  }\n",
       "</style>"
      ]
     },
     "metadata": {
      "application/vnd.databricks.v1+output": {
       "arguments": {},
       "data": "",
       "errorSummary": "Cancelled",
       "errorTraceType": "html",
       "metadata": {},
       "type": "ipynbError"
      }
     },
     "output_type": "display_data"
    }
   ],
   "source": [
    "import time\n",
    "from datetime import datetime\n",
    "import json\n",
    "\n",
    "stream_source_path = \"/databricks/driver/streaming_source\"\n",
    "counter = 0\n",
    "# Loop through the training set one by one\n",
    "for tweet in train_data:\n",
    "    # Add a tweet_time column with the current timestamp\n",
    "    tweet_time = datetime.now().strftime(\"%Y-%m-%d %H:%M:%S\")\n",
    "    tweet['tweet_time'] = tweet_time\n",
    "    \n",
    "    # Write the current tweet to a JSON file\n",
    "    with open(f\"{stream_source_path}/tweet_{counter}.json\", \"w\") as json_file:\n",
    "        json.dump(tweet, json_file, ensure_ascii=False)\n",
    "        json_file.write(\"\\n\")  # Add newline after each JSON object\n",
    "    \n",
    "    # Sleep for 1 second\n",
    "    time.sleep(1)\n",
    "\n",
    "    # Optionally, you can print the progress\n",
    "    print(f\"Processed tweet {counter} at {tweet_time}\")\n",
    "    counter += 1"
   ]
  },
  {
   "cell_type": "markdown",
   "metadata": {
    "application/vnd.databricks.v1+cell": {
     "cellMetadata": {
      "byteLimit": 2048000,
      "rowLimit": 10000
     },
     "inputWidgets": {},
     "nuid": "c1a220cc-090c-4645-879e-fdc1a0252953",
     "showTitle": false,
     "tableResultSettingsMap": {},
     "title": ""
    }
   },
   "source": [
    "3\\. The following Python script reads from `ratings_2013.txt` and write customer comments, one line per file, to the `/databricks/driver/tmp/` directory, at a given rate."
   ]
  },
  {
   "cell_type": "code",
   "execution_count": 0,
   "metadata": {
    "application/vnd.databricks.v1+cell": {
     "cellMetadata": {
      "byteLimit": 2048000,
      "rowLimit": 10000
     },
     "inputWidgets": {},
     "nuid": "5481166c-4072-45e2-bc78-4989a7c1e61f",
     "showTitle": false,
     "tableResultSettingsMap": {},
     "title": ""
    }
   },
   "outputs": [
    {
     "output_type": "stream",
     "name": "stdout",
     "output_type": "stream",
     "text": [
      "tweet_0.json\ttweet_26.json  tweet_45.json  tweet_64.json  tweet_83.json\r\ntweet_1.json\ttweet_27.json  tweet_46.json  tweet_65.json  tweet_84.json\r\ntweet_10.json\ttweet_28.json  tweet_47.json  tweet_66.json  tweet_85.json\r\ntweet_100.json\ttweet_29.json  tweet_48.json  tweet_67.json  tweet_86.json\r\ntweet_101.json\ttweet_3.json   tweet_49.json  tweet_68.json  tweet_87.json\r\ntweet_11.json\ttweet_30.json  tweet_5.json   tweet_69.json  tweet_88.json\r\ntweet_12.json\ttweet_31.json  tweet_50.json  tweet_7.json   tweet_89.json\r\ntweet_13.json\ttweet_32.json  tweet_51.json  tweet_70.json  tweet_9.json\r\ntweet_14.json\ttweet_33.json  tweet_52.json  tweet_71.json  tweet_90.json\r\ntweet_15.json\ttweet_34.json  tweet_53.json  tweet_72.json  tweet_91.json\r\ntweet_16.json\ttweet_35.json  tweet_54.json  tweet_73.json  tweet_92.json\r\ntweet_17.json\ttweet_36.json  tweet_55.json  tweet_74.json  tweet_93.json\r\ntweet_18.json\ttweet_37.json  tweet_56.json  tweet_75.json  tweet_94.json\r\ntweet_19.json\ttweet_38.json  tweet_57.json  tweet_76.json  tweet_95.json\r\ntweet_2.json\ttweet_39.json  tweet_58.json  tweet_77.json  tweet_96.json\r\ntweet_20.json\ttweet_4.json   tweet_59.json  tweet_78.json  tweet_97.json\r\ntweet_21.json\ttweet_40.json  tweet_6.json   tweet_79.json  tweet_98.json\r\ntweet_22.json\ttweet_41.json  tweet_60.json  tweet_8.json   tweet_99.json\r\ntweet_23.json\ttweet_42.json  tweet_61.json  tweet_80.json\r\ntweet_24.json\ttweet_43.json  tweet_62.json  tweet_81.json\r\ntweet_25.json\ttweet_44.json  tweet_63.json  tweet_82.json\r\n"
     ]
    }
   ],
   "source": [
    "!ls streaming_source\t       "
   ]
  },
  {
   "cell_type": "markdown",
   "metadata": {
    "application/vnd.databricks.v1+cell": {
     "cellMetadata": {
      "byteLimit": 2048000,
      "rowLimit": 10000
     },
     "inputWidgets": {},
     "nuid": "64e829e2-1af5-41f0-8be8-289a246e23e8",
     "showTitle": false,
     "tableResultSettingsMap": {},
     "title": ""
    }
   },
   "source": [
    "4\\. Stop the above loop when you no longer needs the stream of new files."
   ]
  },
  {
   "cell_type": "code",
   "execution_count": 0,
   "metadata": {
    "application/vnd.databricks.v1+cell": {
     "cellMetadata": {
      "byteLimit": 2048000,
      "rowLimit": 10000
     },
     "inputWidgets": {},
     "nuid": "f6742676-fe1a-40ab-9845-687fa4a080ce",
     "showTitle": false,
     "tableResultSettingsMap": {},
     "title": ""
    }
   },
   "outputs": [
    {
     "output_type": "stream",
     "name": "stdout",
     "output_type": "stream",
     "text": [
      "{\"tweet\": \"$BYND - JPMorgan reels in expectations on Beyond Meat https://t.co/bd0xbFGjkT\", \"sentiment\": 2, \"url\": \"https://huggingface.co/datasets/zeroshot/twitter-financial-news-sentiment\", \"tweet_time\": \"2025-04-07 06:18:46\"}\r\n"
     ]
    }
   ],
   "source": [
    "!cat streaming_source/tweet_0.json"
   ]
  },
  {
   "cell_type": "code",
   "execution_count": 0,
   "metadata": {
    "application/vnd.databricks.v1+cell": {
     "cellMetadata": {
      "byteLimit": 2048000,
      "rowLimit": 10000
     },
     "inputWidgets": {},
     "nuid": "d77a80e0-2d52-49a7-842c-bf8989e31ea7",
     "showTitle": false,
     "tableResultSettingsMap": {},
     "title": ""
    }
   },
   "outputs": [],
   "source": []
  }
 ],
 "metadata": {
  "anaconda-cloud": {},
  "application/vnd.databricks.v1+notebook": {
   "computePreferences": null,
   "dashboards": [],
   "environmentMetadata": null,
   "inputWidgetPreferences": null,
   "language": "python",
   "notebookMetadata": {
    "pythonIndentUnit": 2
   },
   "notebookName": "Stock_Predictor_GenData",
   "widgets": {}
  },
  "kernelspec": {
   "display_name": "Python 2",
   "language": "python",
   "name": "python2"
  },
  "language_info": {
   "codemirror_mode": {
    "name": "ipython",
    "version": 2
   },
   "file_extension": ".py",
   "mimetype": "text/x-python",
   "name": "python",
   "nbconvert_exporter": "python",
   "pygments_lexer": "ipython2",
   "version": "2.7.13"
  }
 },
 "nbformat": 4,
 "nbformat_minor": 0
}